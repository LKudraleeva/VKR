{
 "cells": [
  {
   "cell_type": "code",
   "execution_count": 24,
   "metadata": {
    "collapsed": true
   },
   "outputs": [],
   "source": [
    "import os\n",
    "import matplotlib.pyplot as plt\n",
    "import numpy as np\n",
    "import cv2 as cv"
   ]
  },
  {
   "cell_type": "code",
   "execution_count": 40,
   "outputs": [],
   "source": [
    "pigments_path = os.listdir('Pigment')\n",
    "target_images = [cv.imread('Pigment/' + p, cv.IMREAD_GRAYSCALE) for p in pigments_path]"
   ],
   "metadata": {
    "collapsed": false
   }
  },
  {
   "cell_type": "code",
   "execution_count": 96,
   "outputs": [
    {
     "data": {
      "text/plain": "364"
     },
     "execution_count": 96,
     "metadata": {},
     "output_type": "execute_result"
    }
   ],
   "source": [
    "pigments_path.index('426.png')"
   ],
   "metadata": {
    "collapsed": false
   }
  },
  {
   "cell_type": "code",
   "execution_count": 41,
   "outputs": [
    {
     "data": {
      "text/plain": "(256, 256)"
     },
     "execution_count": 41,
     "metadata": {},
     "output_type": "execute_result"
    }
   ],
   "source": [
    "target_images[0].shape"
   ],
   "metadata": {
    "collapsed": false
   }
  },
  {
   "cell_type": "code",
   "execution_count": 97,
   "outputs": [
    {
     "data": {
      "text/plain": "<matplotlib.image.AxesImage at 0x23cc1a4a290>"
     },
     "execution_count": 97,
     "metadata": {},
     "output_type": "execute_result"
    },
    {
     "data": {
      "text/plain": "<Figure size 432x288 with 1 Axes>",
      "image/png": "[encoded data removed]"
     },
     "metadata": {
      "needs_background": "light"
     },
     "output_type": "display_data"
    }
   ],
   "source": [
    "plt.imshow(target_images[364], cmap='gray')"
   ],
   "metadata": {
    "collapsed": false
   }
  },
  {
   "cell_type": "code",
   "execution_count": 119,
   "outputs": [
    {
     "data": {
      "text/plain": "array([[0, 0, 0, ..., 0, 0, 0],\n       [0, 0, 0, ..., 0, 0, 0],\n       [0, 0, 0, ..., 0, 0, 0],\n       ...,\n       [0, 0, 0, ..., 0, 0, 0],\n       [0, 0, 0, ..., 0, 0, 0],\n       [0, 0, 0, ..., 0, 0, 0]], dtype=uint8)"
     },
     "execution_count": 119,
     "metadata": {},
     "output_type": "execute_result"
    }
   ],
   "source": [
    "im = target_images[364]\n",
    "im"
   ],
   "metadata": {
    "collapsed": false
   }
  },
  {
   "cell_type": "code",
   "execution_count": 126,
   "outputs": [],
   "source": [
    "if np.any(im[:,0] == 1):\n",
    "    print(np.where(im[:, 0] == 1)[0][0])"
   ],
   "metadata": {
    "collapsed": false
   }
  },
  {
   "cell_type": "code",
   "execution_count": 52,
   "outputs": [
    {
     "name": "stdout",
     "output_type": "stream",
     "text": [
      "145\n",
      "145\n",
      "145\n",
      "146\n",
      "146\n",
      "146\n",
      "146\n",
      "147\n",
      "147\n",
      "148\n"
     ]
    }
   ],
   "source": [
    "for i in range(256):\n",
    "    print(np.where(im[:, i] == 255)[0][0])"
   ],
   "metadata": {
    "collapsed": false
   }
  },
  {
   "cell_type": "code",
   "execution_count": 99,
   "outputs": [
    {
     "data": {
      "text/plain": "<Figure size 432x288 with 1 Axes>",
      "image/png": "[encoded data removed]"
     },
     "metadata": {
      "needs_background": "light"
     },
     "output_type": "display_data"
    }
   ],
   "source": [
    "x = np.arange(0,256)\n",
    "y = np.array([255 - np.where(im[:, i] == 255)[0][0] for i in range(256)])\n",
    "plt.plot(x, y)\n",
    "plt.ylim((0, 256))\n",
    "plt.xlim((0,256))\n",
    "plt.show()"
   ],
   "metadata": {
    "collapsed": false
   }
  },
  {
   "cell_type": "code",
   "execution_count": 130,
   "outputs": [],
   "source": [
    "list = np.array([[i, 255 - np.where(im[:, i] == 255)[0][0]] for i in range(256) if np.any(im[:, i] == 255)])"
   ],
   "metadata": {
    "collapsed": false
   }
  },
  {
   "cell_type": "code",
   "execution_count": 138,
   "outputs": [
    {
     "data": {
      "text/plain": "array([108, 108, 107, 107, 106, 106, 105, 105, 105, 105, 104, 104, 104,\n       104, 104, 104, 104, 104, 104, 104, 104, 103, 102, 101, 101, 100,\n       100, 100, 100,  99,  98,  98,  97,  97,  96,  95,  95,  94,  94,\n        93,  93,  92,  92,  91,  91,  91,  90,  90,  89,  89,  89,  89,\n        88,  88,  88,  87,  87,  87,  87,  87,  86,  86,  86,  86,  86,\n        86,  86,  86,  86,  86,  86,  86,  86,  86,  86,  86,  85,  85,\n        85,  85,  85,  85,  85,  86,  86,  87,  88,  89,  89,  90,  90,\n        89,  89,  88,  87,  86,  85,  85,  85,  85,  85,  85,  85,  85,\n        85,  85,  85,  85,  85,  85,  85,  85,  84,  84,  84,  84,  84,\n        84,  84,  84,  84,  84,  84,  84,  84,  84,  84,  84,  84,  84,\n        84,  85,  86,  86,  88,  89,  90,  91,  91,  92,  92,  92,  93,\n        93,  92,  92,  91,  91,  90,  88,  88,  87,  87,  87,  87,  87,\n        87,  87,  87,  88,  89,  89,  90,  90,  90,  90,  89,  89,  89,\n        89,  89,  89,  89,  90,  90,  91,  91,  91,  91,  91,  91,  91,\n        92,  92,  92,  92,  92,  92,  92,  93,  93,  94,  96,  97,  98,\n        99, 100, 101, 101, 101, 101, 101, 101, 100,  98,  97,  97,  97,\n        98,  99, 100, 101, 102, 103, 103, 104, 105, 106, 106, 107, 107,\n       108, 108, 108, 109, 109, 109, 110, 110, 110, 110, 111, 111, 112,\n       112, 113, 113, 114, 114, 114, 115, 116, 116, 117, 117, 118, 118,\n       119, 119, 120, 121, 121, 122, 123, 123, 123], dtype=int64)"
     },
     "execution_count": 138,
     "metadata": {},
     "output_type": "execute_result"
    }
   ],
   "source": [
    "list[:, 1]"
   ],
   "metadata": {
    "collapsed": false
   }
  },
  {
   "cell_type": "code",
   "execution_count": 109,
   "outputs": [
    {
     "data": {
      "text/plain": "<Figure size 432x288 with 1 Axes>",
      "image/png": "[encoded data removed]"
     },
     "metadata": {
      "needs_background": "light"
     },
     "output_type": "display_data"
    },
    {
     "data": {
      "text/plain": "<Figure size 432x288 with 0 Axes>"
     },
     "metadata": {},
     "output_type": "display_data"
    }
   ],
   "source": [
    "t = np.polyfit(x, y, 2)\n",
    "f = np.poly1d(t)\n",
    "plt.plot(x, y, 'k', x, f(x), \"k\")\n",
    "plt.grid(True, which='both')\n",
    "plt.ylim((0, 256))\n",
    "plt.xlim((0,256))\n",
    "plt.show()\n",
    "plt.savefig('saved_figure.png')"
   ],
   "metadata": {
    "collapsed": false
   }
  },
  {
   "cell_type": "code",
   "execution_count": 149,
   "outputs": [
    {
     "data": {
      "text/plain": "array([[  0, 108],\n       [  1, 108],\n       [  2, 107],\n       [  3, 107],\n       [  4, 106],\n       [  5, 106],\n       [  6, 105],\n       [  7, 105],\n       [  8, 105],\n       [  9, 104],\n       [ 10, 104],\n       [ 11, 104],\n       [ 12, 103],\n       [ 13, 103],\n       [ 14, 102],\n       [ 15, 102],\n       [ 16, 102],\n       [ 17, 101],\n       [ 18, 101],\n       [ 19, 101],\n       [ 20, 100],\n       [ 21, 100],\n       [ 22, 100],\n       [ 23,  99],\n       [ 24,  99],\n       [ 25,  99],\n       [ 26,  98],\n       [ 27,  98],\n       [ 28,  98],\n       [ 29,  97],\n       [ 30,  97],\n       [ 31,  97],\n       [ 32,  96],\n       [ 33,  96],\n       [ 34,  96],\n       [ 35,  96],\n       [ 36,  95],\n       [ 37,  95],\n       [ 38,  95],\n       [ 39,  94],\n       [ 40,  94],\n       [ 41,  94],\n       [ 42,  94],\n       [ 43,  93],\n       [ 44,  93],\n       [ 45,  93],\n       [ 46,  93],\n       [ 47,  92],\n       [ 48,  92],\n       [ 49,  92],\n       [ 50,  92],\n       [ 51,  91],\n       [ 52,  91],\n       [ 53,  91],\n       [ 54,  91],\n       [ 55,  91],\n       [ 56,  90],\n       [ 57,  90],\n       [ 58,  90],\n       [ 59,  90],\n       [ 60,  90],\n       [ 61,  89],\n       [ 62,  89],\n       [ 63,  89],\n       [ 64,  89],\n       [ 65,  89],\n       [ 66,  88],\n       [ 67,  88],\n       [ 68,  88],\n       [ 69,  88],\n       [ 70,  88],\n       [ 71,  88],\n       [ 72,  87],\n       [ 73,  87],\n       [ 74,  87],\n       [ 75,  87],\n       [ 76,  87],\n       [ 77,  87],\n       [ 78,  87],\n       [ 79,  86],\n       [ 80,  86],\n       [ 81,  86],\n       [ 82,  86],\n       [ 83,  86],\n       [ 84,  86],\n       [ 85,  86],\n       [ 86,  86],\n       [ 87,  86],\n       [ 88,  86],\n       [ 89,  85],\n       [ 90,  85],\n       [ 91,  85],\n       [ 92,  85],\n       [ 93,  85],\n       [ 94,  85],\n       [ 95,  85],\n       [ 96,  85],\n       [ 97,  85],\n       [ 98,  85],\n       [ 99,  85],\n       [100,  85],\n       [101,  85],\n       [102,  85],\n       [103,  85],\n       [104,  85],\n       [105,  85],\n       [106,  85],\n       [107,  84],\n       [108,  84],\n       [109,  84],\n       [110,  84],\n       [111,  84],\n       [112,  84],\n       [113,  84],\n       [114,  84],\n       [115,  84],\n       [116,  84],\n       [117,  84],\n       [118,  85],\n       [119,  85],\n       [120,  85],\n       [121,  85],\n       [122,  85],\n       [123,  85],\n       [124,  85],\n       [125,  85],\n       [126,  85],\n       [127,  85],\n       [128,  85],\n       [129,  85],\n       [130,  85],\n       [131,  85],\n       [132,  85],\n       [133,  85],\n       [134,  85],\n       [135,  85],\n       [136,  86],\n       [137,  86],\n       [138,  86],\n       [139,  86],\n       [140,  86],\n       [141,  86],\n       [142,  86],\n       [143,  86],\n       [144,  86],\n       [145,  86],\n       [146,  87],\n       [147,  87],\n       [148,  87],\n       [149,  87],\n       [150,  87],\n       [151,  87],\n       [152,  87],\n       [153,  88],\n       [154,  88],\n       [155,  88],\n       [156,  88],\n       [157,  88],\n       [158,  88],\n       [159,  89],\n       [160,  89],\n       [161,  89],\n       [162,  89],\n       [163,  89],\n       [164,  89],\n       [165,  90],\n       [166,  90],\n       [167,  90],\n       [168,  90],\n       [169,  91],\n       [170,  91],\n       [171,  91],\n       [172,  91],\n       [173,  91],\n       [174,  92],\n       [175,  92],\n       [176,  92],\n       [177,  92],\n       [178,  93],\n       [179,  93],\n       [180,  93],\n       [181,  93],\n       [182,  94],\n       [183,  94],\n       [184,  94],\n       [185,  94],\n       [186,  95],\n       [187,  95],\n       [188,  95],\n       [189,  96],\n       [190,  96],\n       [191,  96],\n       [192,  96],\n       [193,  97],\n       [194,  97],\n       [195,  97],\n       [196,  98],\n       [197,  98],\n       [198,  98],\n       [199,  99],\n       [200,  99],\n       [201,  99],\n       [202, 100],\n       [203, 100],\n       [204, 100],\n       [205, 101],\n       [206, 101],\n       [207, 101],\n       [208, 102],\n       [209, 102],\n       [210, 102],\n       [211, 103],\n       [212, 103],\n       [213, 104],\n       [214, 104],\n       [215, 104],\n       [216, 105],\n       [217, 105],\n       [218, 105],\n       [219, 106],\n       [220, 106],\n       [221, 107],\n       [222, 107],\n       [223, 107],\n       [224, 108],\n       [225, 108],\n       [226, 109],\n       [227, 109],\n       [228, 110],\n       [229, 110],\n       [230, 110],\n       [231, 111],\n       [232, 111],\n       [233, 112],\n       [234, 112],\n       [235, 113],\n       [236, 113],\n       [237, 114],\n       [238, 114],\n       [239, 115],\n       [240, 115],\n       [241, 116],\n       [242, 116],\n       [243, 117],\n       [244, 117],\n       [245, 118],\n       [246, 118],\n       [247, 119],\n       [248, 119],\n       [249, 120],\n       [250, 120],\n       [251, 121],\n       [252, 121],\n       [253, 122],\n       [254, 122],\n       [255, 123]])"
     },
     "execution_count": 149,
     "metadata": {},
     "output_type": "execute_result"
    }
   ],
   "source": [
    "na = np.arange(256)\n",
    "ne = f(na)\n",
    "ne = np.around(ne).astype(int)\n",
    "res = np.stack((na, ne), axis=-1)\n",
    "res"
   ],
   "metadata": {
    "collapsed": false
   }
  },
  {
   "cell_type": "code",
   "execution_count": 118,
   "outputs": [
    {
     "data": {
      "text/plain": "<Figure size 576x576 with 1 Axes>",
      "image/png": "[encoded data removed]"
     },
     "metadata": {
      "needs_background": "light"
     },
     "output_type": "display_data"
    }
   ],
   "source": [
    "fig = plt.figure(figsize=(8, 8))\n",
    "left, bottom, width, height = 0.1, 0.1, 0.8, 0.8 # задаем значения переменных\n",
    "ax = fig.add_axes((left, bottom, width, height))\n",
    "ax.set(facecolor = \"black\")\n",
    "ax.set_xlim(0, 256)\n",
    "ax.set_ylim(0, 256)\n",
    "ax.plot(x, y, 'w')\n",
    "ax.plot(x, f(x), 'w')\n",
    "plt.savefig('fig.png')\n",
    "plt.show()"
   ],
   "metadata": {
    "collapsed": false
   }
  },
  {
   "cell_type": "code",
   "execution_count": null,
   "outputs": [],
   "source": [],
   "metadata": {
    "collapsed": false
   }
  }
 ],
 "metadata": {
  "kernelspec": {
   "display_name": "Python 3",
   "language": "python",
   "name": "python3"
  },
  "language_info": {
   "codemirror_mode": {
    "name": "ipython",
    "version": 2
   },
   "file_extension": ".py",
   "mimetype": "text/x-python",
   "name": "python",
   "nbconvert_exporter": "python",
   "pygments_lexer": "ipython2",
   "version": "2.7.6"
  }
 },
 "nbformat": 4,
 "nbformat_minor": 0
}
